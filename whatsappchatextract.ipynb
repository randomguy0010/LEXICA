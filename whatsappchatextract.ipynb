{
 "cells": [
  {
   "cell_type": "code",
   "execution_count": 5,
   "metadata": {},
   "outputs": [
    {
     "name": "stdout",
     "output_type": "stream",
     "text": [
      "Requirement already satisfied: urllib3 in c:\\users\\skole\\appdata\\local\\programs\\python\\python311\\lib\\site-packages (1.26.18)\n",
      "Note: you may need to restart the kernel to use updated packages.\n",
      "Requirement already satisfied: pushbullet.py in c:\\users\\skole\\appdata\\local\\programs\\python\\python311\\lib\\site-packages (0.12.0)\n",
      "Requirement already satisfied: requests>=1.0.0 in c:\\users\\skole\\appdata\\local\\programs\\python\\python311\\lib\\site-packages (from pushbullet.py) (2.31.0)\n",
      "Requirement already satisfied: python-magic in c:\\users\\skole\\appdata\\local\\programs\\python\\python311\\lib\\site-packages (from pushbullet.py) (0.4.27)\n",
      "Requirement already satisfied: websocket-client>=0.53.0 in c:\\users\\skole\\appdata\\local\\programs\\python\\python311\\lib\\site-packages (from pushbullet.py) (1.8.0)\n",
      "Requirement already satisfied: charset-normalizer<4,>=2 in c:\\users\\skole\\appdata\\local\\programs\\python\\python311\\lib\\site-packages (from requests>=1.0.0->pushbullet.py) (3.2.0)\n",
      "Requirement already satisfied: idna<4,>=2.5 in c:\\users\\skole\\appdata\\local\\programs\\python\\python311\\lib\\site-packages (from requests>=1.0.0->pushbullet.py) (3.7)\n",
      "Requirement already satisfied: urllib3<3,>=1.21.1 in c:\\users\\skole\\appdata\\local\\programs\\python\\python311\\lib\\site-packages (from requests>=1.0.0->pushbullet.py) (1.26.18)\n",
      "Requirement already satisfied: certifi>=2017.4.17 in c:\\users\\skole\\appdata\\local\\programs\\python\\python311\\lib\\site-packages (from requests>=1.0.0->pushbullet.py) (2024.2.2)\n",
      "Note: you may need to restart the kernel to use updated packages.\n",
      "Requirement already satisfied: pandas in c:\\users\\skole\\appdata\\local\\programs\\python\\python311\\lib\\site-packages (2.0.3)\n",
      "Requirement already satisfied: openpyxl in c:\\users\\skole\\appdata\\local\\programs\\python\\python311\\lib\\site-packages (3.1.5)\n",
      "Requirement already satisfied: python-dateutil>=2.8.2 in c:\\users\\skole\\appdata\\local\\programs\\python\\python311\\lib\\site-packages (from pandas) (2.8.2)\n",
      "Requirement already satisfied: pytz>=2020.1 in c:\\users\\skole\\appdata\\local\\programs\\python\\python311\\lib\\site-packages (from pandas) (2023.3)\n",
      "Requirement already satisfied: tzdata>=2022.1 in c:\\users\\skole\\appdata\\local\\programs\\python\\python311\\lib\\site-packages (from pandas) (2023.3)\n",
      "Requirement already satisfied: numpy>=1.21.0 in c:\\users\\skole\\appdata\\local\\programs\\python\\python311\\lib\\site-packages (from pandas) (1.24.3)\n",
      "Requirement already satisfied: et-xmlfile in c:\\users\\skole\\appdata\\local\\programs\\python\\python311\\lib\\site-packages (from openpyxl) (1.1.0)\n",
      "Requirement already satisfied: six>=1.5 in c:\\users\\skole\\appdata\\local\\programs\\python\\python311\\lib\\site-packages (from python-dateutil>=2.8.2->pandas) (1.16.0)\n",
      "Note: you may need to restart the kernel to use updated packages.\n"
     ]
    }
   ],
   "source": [
    "\n",
    "%pip install urllib3\n",
    "import urllib3\n",
    "import os\n",
    "\n",
    "#Third Party Modules\n",
    "%pip install pushbullet.py\n",
    "%pip install pandas openpyxl\n",
    "import pandas as pd \n",
    "from pushbullet import Pushbullet \n"
   ]
  },
  {
   "cell_type": "code",
   "execution_count": 6,
   "metadata": {},
   "outputs": [],
   "source": [
    "API_KEY=\"o.8dn9BBHClu9tM2ukcI91z9lCUCOhRP1t\""
   ]
  },
  {
   "cell_type": "code",
   "execution_count": 7,
   "metadata": {},
   "outputs": [
    {
     "data": {
      "text/plain": [
       "'https://dl3.pushbulletusercontent.com/7EwMk1NtsbWIFg7qYwcdi5m1iBAd379O/WhatsApp%20Chat%20with%20Shankha%20ju%20pg%20homie.zip'"
      ]
     },
     "execution_count": 7,
     "metadata": {},
     "output_type": "execute_result"
    }
   ],
   "source": [
    "pb=Pushbullet(API_KEY)\n",
    "pushes=pb.get_pushes()\n",
    "latest=pushes[0]\n",
    "url=latest['file_url']\n",
    "url"
   ]
  },
  {
   "cell_type": "code",
   "execution_count": 10,
   "metadata": {},
   "outputs": [],
   "source": [
    "import urllib"
   ]
  },
  {
   "cell_type": "code",
   "execution_count": 11,
   "metadata": {},
   "outputs": [
    {
     "data": {
      "text/plain": [
       "('chat.txt', <http.client.HTTPMessage at 0x20ef89b3dd0>)"
      ]
     },
     "execution_count": 11,
     "metadata": {},
     "output_type": "execute_result"
    }
   ],
   "source": [
    "url=latest['file_url']\n",
    "file_path=\"chat.txt\"\n",
    "urllib.request.urlretrieve(url,file_path)"
   ]
  },
  {
   "cell_type": "code",
   "execution_count": 12,
   "metadata": {},
   "outputs": [],
   "source": [
    "with open('WhatsApp Chat with Shankha ju pg homie.txt',mode='r',encoding=\"utf8\") as f:\n",
    "    data=f.readlines()"
   ]
  },
  {
   "cell_type": "code",
   "execution_count": 13,
   "metadata": {},
   "outputs": [
    {
     "data": {
      "text/plain": [
       "['01/08/2023, 7:28\\u202fpm - Messages and calls are end-to-end encrypted. No one outside of this chat, not even WhatsApp, can read or listen to them. Tap to learn more.\\n',\n",
       " '28/08/2023, 6:29\\u202fpm - Disappearing messages were turned off. Tap to change.\\n',\n",
       " '28/08/2023, 6:29\\u202fpm - Shankha ju pg homie: mach nia asbe\\n',\n",
       " '28/08/2023, 6:30\\u202fpm - Shankha ju pg homie: 16 pieces Catla\\n',\n",
       " '28/08/2023, 6:30\\u202fpm - Shankha ju pg homie: tui kine nia ai\\n',\n",
       " '28/08/2023, 6:30\\u202fpm - Shankha ju pg homie: ami taka dia debo\\n',\n",
       " '28/08/2023, 6:30\\u202fpm - Shankha ju pg homie: 250_260 moton porbe\\n',\n",
       " '02/10/2023, 9:43\\u202fpm - Saptarshi Koley: pg er shobai mile thakur dekhte berono hobe naki?\\n',\n",
       " '02/10/2023, 9:49\\u202fpm - Shankha ju pg homie: Hok fok\\n',\n",
       " '02/10/2023, 9:49\\u202fpm - Shankha ju pg homie: Tritia and chaturthi beronor plan tho ache amader bondhu der songe\\n',\n",
       " '02/10/2023, 9:49\\u202fpm - Shankha ju pg homie: Beria porbe amader songe\\n',\n",
       " '02/10/2023, 9:52\\u202fpm - Saptarshi Koley: hok fok\\n',\n",
       " '02/10/2023, 9:52\\u202fpm - Saptarshi Koley: berobo\\n',\n",
       " '02/10/2023, 9:52\\u202fpm - Saptarshi Koley: pg er lokjn?\\n',\n",
       " '02/10/2023, 9:53\\u202fpm - Shankha ju pg homie: Jai PG te kotha barta hobe ei bisoi\\n',\n",
       " '16/10/2023, 12:25\\u202fpm - Shankha ju pg homie: Kalker jonno ready tho?\\n',\n",
       " '16/10/2023, 12:28\\u202fpm - Saptarshi Koley: ready\\n',\n",
       " '16/10/2023, 12:28\\u202fpm - Saptarshi Koley: heil hitler\\n',\n",
       " '16/10/2023, 12:29\\u202fpm - Shankha ju pg homie: <Media omitted>\\n',\n",
       " '16/10/2023, 12:29\\u202fpm - Shankha ju pg homie: Dutta ar Pramanik ki bolche?\\n',\n",
       " '16/10/2023, 12:33\\u202fpm - Saptarshi Koley: jabe\\n',\n",
       " '24/10/2023, 11:20\\u202fam - Shankha ju pg homie: শুভ বিজয়ার আন্তরিক শুভেচ্ছা জানাই।❤️\\n',\n",
       " 'গুরুজনদের প্রণাম জানিও আমার।\\xa0🙏🙏\\n',\n",
       " '24/10/2023, 4:48\\u202fpm - Saptarshi Koley: Wishing you peace,  happiness, prosperity, success, goodness and joy on the auspicious occasion of Bijaya Dashami…. Subho Bijaya and Happy Dussehra to you and your family <This message was edited>\\n',\n",
       " '24/10/2023, 7:08\\u202fpm - Shankha ju pg homie: <Media omitted>\\n',\n",
       " '07/11/2023, 12:52\\u202fpm - Saptarshi Koley: Aaj 2 to shuttle cock niye chole asis raate khelbo\\n',\n",
       " '07/11/2023, 2:32\\u202fpm - Shankha ju pg homie: Kal kinbo college theke ferar pothe...\\n',\n",
       " '07/11/2023, 2:32\\u202fpm - Shankha ju pg homie: Kal amader CT ache🥲\\n',\n",
       " '11/11/2023, 10:51\\u202fam - Shankha ju pg homie: Anirban Da Roommate.vcf (file attached)\\n',\n",
       " '13/11/2023, 9:14\\u202fpm - Shankha ju pg homie: Ei bolche tui IT te chilis tho?\\n',\n",
       " '13/11/2023, 10:34\\u202fpm - Saptarshi Koley: hmm\\n',\n",
       " '13/11/2023, 10:34\\u202fpm - Saptarshi Koley: achha oi meyeta\\n',\n",
       " '13/11/2023, 10:35\\u202fpm - Saptarshi Koley: ei ami follow korbona or ekta chobi de\\n',\n",
       " '13/11/2023, 10:35\\u202fpm - Saptarshi Koley: tarpor ami khonj lagachhi\\n',\n",
       " '13/11/2023, 10:39\\u202fpm - Shankha ju pg homie: Chobi nei bhai\\n',\n",
       " '13/11/2023, 10:40\\u202fpm - Shankha ju pg homie: Just 2 din chat hocche\\n',\n",
       " '13/11/2023, 10:40\\u202fpm - Shankha ju pg homie: Tui aktu khoj laga riya ganguly bole ki keu ache?\\n',\n",
       " '13/11/2023, 11:52\\u202fpm - Saptarshi Koley: ok ok dara\\n',\n",
       " '14/11/2023, 11:06\\u202fam - Saptarshi Koley: bhai it cr ke dhorlam\\n',\n",
       " '14/11/2023, 11:06\\u202fam - Saptarshi Koley: ug 1 ug 2 ei naam er kono meye nei\\n',\n",
       " '14/11/2023, 11:44\\u202fam - Shankha ju pg homie: Ei gnaar mereche\\n',\n",
       " '14/11/2023, 11:44\\u202fam - Shankha ju pg homie: Fake maal thahole...\\n',\n",
       " '25/12/2023, 1:36\\u202fpm - Shankha ju pg homie: Merry Christmas 🎅 🎄 ❤️ \\n',\n",
       " '\\n',\n",
       " 'And belated happy birthday😇😇!\\n',\n",
       " '\\n',\n",
       " 'I hope that this year(the days that are left) and the years to come are special, magical, and unforgettable..\\n',\n",
       " '\\n',\n",
       " 'Gpl ta next year hobe!\\n',\n",
       " '25/12/2023, 2:40\\u202fpm - Saptarshi Koley: thank you thank you\\n',\n",
       " '25/12/2023, 2:40\\u202fpm - Saptarshi Koley: Merry Christmas 🎅 🎄\\n',\n",
       " '25/12/2023, 3:05\\u202fpm - Shankha ju pg homie: <Media omitted>\\n',\n",
       " '01/01/2024, 1:42\\u202fam - Shankha ju pg homie: Happpppppyyyyy Newwwww Yearrrrr brother❤️🖤🖤🖤🥳🥳🫂🫂🫂\\n',\n",
       " '\\n',\n",
       " 'Asa kori notun bochor khub valo katbe, sustho thak valo thak🤟🏻🤟🏻🤟🏻🫂🫂\\n',\n",
       " '\\n',\n",
       " 'Badminton khela hobe, first thing college khullei!🥹🥹🥹🔥🔥\\n',\n",
       " '01/01/2024, 7:52\\u202fam - Saptarshi Koley: Arre sir happy new year \\n',\n",
       " '\\n',\n",
       " 'ei bochor bhalo katuk apnar o apnar poribarer ei kamona kori🥰🥰\\n',\n",
       " '01/01/2024, 7:52\\u202fam - Saptarshi Koley: ekdom badminton hobei\\n',\n",
       " '01/01/2024, 1:18\\u202fpm - Shankha ju pg homie: Hok fok🔥🔥🔥🔥\\n',\n",
       " '01/01/2024, 1:19\\u202fpm - Shankha ju pg homie: 🫂🫂🫂🫂thankuuu very mucchjh\\n',\n",
       " '14/04/2024, 1:03\\u202fpm - Shankha ju pg homie: শুভ নববর্ষ homie...\\n',\n",
       " '\\n',\n",
       " 'Joldi susto hoi fhero abar mojha tojha korte hobe tho naki....🫂❤️🖤\\n',\n",
       " '14/04/2024, 1:06\\u202fpm - Saptarshi Koley: are homie shubho nobo borsho\\n',\n",
       " '14/04/2024, 1:06\\u202fpm - Saptarshi Koley: ar ei week ta\\n',\n",
       " '14/04/2024, 1:06\\u202fpm - Saptarshi Koley: diyei abr party hobe\\n',\n",
       " '14/04/2024, 1:25\\u202fpm - Shankha ju pg homie: <Media omitted>\\n',\n",
       " '14/04/2024, 1:25\\u202fpm - Shankha ju pg homie: <Media omitted>\\n',\n",
       " '14/04/2024, 1:26\\u202fpm - Shankha ju pg homie: <Media omitted>\\n',\n",
       " '18/04/2024, 10:22\\u202fpm - Shankha ju pg homie: 💯\\n',\n",
       " '26/04/2024, 11:57\\u202fpm - Shankha ju pg homie: 😍\\n',\n",
       " '26/04/2024, 11:57\\u202fpm - Shankha ju pg homie: <Media omitted>\\n',\n",
       " '27/04/2024, 12:00\\u202fam - Saptarshi Koley: <Media omitted>\\n',\n",
       " '10/05/2024, 7:03\\u202fpm - Saptarshi Koley: bhej diya\\n',\n",
       " '10/05/2024, 7:13\\u202fpm - Shankha ju pg homie: gawk gawk\\n',\n",
       " '10/05/2024, 7:14\\u202fpm - Saptarshi Koley: womp womp\\n',\n",
       " '10/05/2024, 7:23\\u202fpm - Shankha ju pg homie: <Media omitted>\\n',\n",
       " '19/05/2024, 1:46\\u202fam - Shankha ju pg homie: Sera pic bhai🤣🤣🤣🤣🤣\\n',\n",
       " '\\n',\n",
       " 'Thank you so so much!!!!!!!❤️❤️❤️❤️❤️🫂🫂🫂🫂🫂🫂\\n',\n",
       " '27/06/2024, 2:48\\u202fpm - Shankha ju pg homie: Kaise ho bhai?\\n',\n",
       " '27/06/2024, 3:07\\u202fpm - Saptarshi Koley: are bradar\\n',\n",
       " '27/06/2024, 3:07\\u202fpm - Saptarshi Koley: bhalo achi tumi kemon?\\n',\n",
       " '27/06/2024, 5:36\\u202fpm - Shankha ju pg homie: Cholche re...Khao,dao,ghumao and aktu porasona koro abar ki..\\n',\n",
       " '\\n',\n",
       " 'Tobe toder songe dekha hocche na eitai kosto... \\n',\n",
       " '\\n',\n",
       " 'Toder k ki kichu boleche kobe khulbe Uni?\\n',\n",
       " '27/06/2024, 5:58\\u202fpm - Saptarshi Koley: jabo jabo\\n',\n",
       " '27/06/2024, 5:59\\u202fpm - Saptarshi Koley: ekhono kono khobor nei tobe ei maas er sesh er dikei khulbe jotoku ja sunchi <This message was edited>\\n',\n",
       " '27/06/2024, 6:38\\u202fpm - Shankha ju pg homie: Hmm orom somai e khulbe..\\n',\n",
       " '\\n',\n",
       " 'Amader boleche 22nd of July khulbe..Tobe background e kaaj cholche to push the opening date further..\\n',\n",
       " '27/06/2024, 7:26\\u202fpm - Saptarshi Koley: achha\\n',\n",
       " '28/06/2024, 12:20\\u202fam - Shankha ju pg homie: Ei wara eta kotobar use korbe🤣🤣🤣\\n',\n",
       " '28/06/2024, 12:21\\u202fam - Saptarshi Koley: <Media omitted>\\n',\n",
       " '31/07/2024, 8:46\\u202fpm - Shankha ju pg homie: 10 ta dim\\n',\n",
       " '33 ta ruti\\n',\n",
       " '200 carrot and 200 beans\\n',\n",
       " 'Aloo 2kg...\\n',\n",
       " '31/07/2024, 8:46\\u202fpm - Shankha ju pg homie: Aktu cash o Nia jass by chance jodhi dorkar lage..\\n',\n",
       " '31/07/2024, 8:46\\u202fpm - Shankha ju pg homie: 100-200\\n']"
      ]
     },
     "execution_count": 13,
     "metadata": {},
     "output_type": "execute_result"
    }
   ],
   "source": [
    "data"
   ]
  },
  {
   "cell_type": "code",
   "execution_count": 14,
   "metadata": {},
   "outputs": [
    {
     "data": {
      "text/plain": [
       "'01/08/2023, 7:28\\u202fpm - Messages and calls are end-to-end encrypted. No one outside of this chat, not even WhatsApp, can read or listen to them. Tap to learn more.\\n'"
      ]
     },
     "execution_count": 14,
     "metadata": {},
     "output_type": "execute_result"
    }
   ],
   "source": [
    "data[0]"
   ]
  },
  {
   "cell_type": "code",
   "execution_count": 16,
   "metadata": {},
   "outputs": [
    {
     "name": "stdout",
     "output_type": "stream",
     "text": [
      "28/08/2023   \n",
      "28/08/2023   \n",
      "28/08/2023   \n",
      "28/08/2023   \n",
      "28/08/2023   \n",
      "28/08/2023   \n",
      "02/10/2023   \n",
      "02/10/2023   \n",
      "02/10/2023 ge\n",
      "  \n",
      "02/10/2023   \n",
      "02/10/2023   \n",
      "02/10/2023   \n",
      "02/10/2023   \n",
      "02/10/2023   \n",
      "16/10/2023   \n",
      "16/10/2023   \n",
      "16/10/2023   \n",
      "16/10/2023   \n",
      "16/10/2023   \n",
      "16/10/2023   \n",
      "24/10/2023   \n",
      "গুরুজনদের প্রণাম জানিও আমার। 🙏🙏\n",
      "   \n",
      "24/10/2023  on the auspicious occasion of Bijaya Dashami…. Subho Bijaya and Happy Dussehra to you and your family <This message was edited>\n",
      "  \n",
      "24/10/2023   \n",
      "07/11/2023   \n",
      "07/11/2023   \n",
      "07/11/2023   \n",
      "11/11/2023   \n",
      "13/11/2023   \n",
      "13/11/2023   \n",
      "13/11/2023   \n",
      "13/11/2023   \n",
      "13/11/2023   \n",
      "13/11/2023   \n",
      "13/11/2023   \n",
      "13/11/2023   \n",
      "13/11/2023   \n",
      "14/11/2023   \n",
      "14/11/2023   \n",
      "14/11/2023   \n",
      "14/11/2023   \n",
      "25/12/2023   \n",
      "\n",
      "   \n",
      "And belated happy birthday😇😇!\n",
      "   \n",
      "\n",
      "   \n",
      "I hope that this year(the days that are left) and the years to come are special ..\n",
      "  \n",
      "\n",
      "   \n",
      "Gpl ta next year hobe!\n",
      "   \n",
      "25/12/2023   \n",
      "25/12/2023   \n",
      "25/12/2023   \n",
      "01/01/2024   \n",
      "\n",
      "   \n",
      "Asa kori notun bochor khub valo katbe   \n",
      "\n",
      "   \n",
      "Badminton khela hobe   \n",
      "01/01/2024   \n",
      "\n",
      "   \n",
      "ei bochor bhalo katuk apnar o apnar poribarer ei kamona kori🥰🥰\n",
      "   \n",
      "01/01/2024   \n",
      "01/01/2024   \n",
      "01/01/2024   \n",
      "14/04/2024   \n",
      "\n",
      "   \n",
      "Joldi susto hoi fhero abar mojha tojha korte hobe tho naki....🫂❤️🖤\n",
      "   \n",
      "14/04/2024   \n",
      "14/04/2024   \n",
      "14/04/2024   \n",
      "14/04/2024   \n",
      "14/04/2024   \n",
      "14/04/2024   \n",
      "18/04/2024   \n",
      "26/04/2024   \n",
      "26/04/2024   \n",
      "27/04/2024   \n",
      "10/05/2024   \n",
      "10/05/2024   \n",
      "10/05/2024   \n",
      "10/05/2024   \n",
      "19/05/2024   \n",
      "\n",
      "   \n",
      "Thank you so so much!!!!!!!❤️❤️❤️❤️❤️🫂🫂🫂🫂🫂🫂\n",
      "   \n",
      "27/06/2024   \n",
      "27/06/2024   \n",
      "27/06/2024   \n",
      "27/06/2024   \n",
      "\n",
      "   \n",
      "Tobe toder songe dekha hocche na eitai kosto... \n",
      "   \n",
      "\n",
      "   \n",
      "Toder k ki kichu boleche kobe khulbe Uni?\n",
      "   \n",
      "27/06/2024   \n",
      "27/06/2024 a sunchi <This message was edited>\n",
      "  \n",
      "27/06/2024   \n",
      "\n",
      "   \n",
      "Amader boleche 22nd of July khulbe..Tobe background e kaaj cholche to push the opening date further..\n",
      "   \n",
      "27/06/2024   \n",
      "28/06/2024   \n",
      "28/06/2024   \n",
      "31/07/2024   \n",
      "33 ta ruti\n",
      "   \n",
      "200 carrot and 200 beans\n",
      "   \n",
      "Aloo 2kg...\n",
      "   \n",
      "31/07/2024   \n",
      "31/07/2024   \n"
     ]
    }
   ],
   "source": [
    "dataset=data[1:]\n",
    "cleaned_data=[]\n",
    "for line in dataset:\n",
    "    date=line.split(\",\")[0]\n",
    "    line2=line[len(data):]\n",
    "    time=line2.split(\"-\")[0][2:]\n",
    "    line3=line2[len(time):]\n",
    "    name=line3.split(\":\")[0][4:]\n",
    "    line4=line3[len(name):]\n",
    "    message=line4[6:-1]\n",
    "\n",
    "    print(date,time,name,message)\n",
    "    cleaned_data.append([date,time,name,message])\n",
    "\n"
   ]
  },
  {
   "cell_type": "code",
   "execution_count": 17,
   "metadata": {},
   "outputs": [],
   "source": [
    "df=pd.DataFrame(cleaned_data,columns=['Date','Time','Name','Message'])"
   ]
  },
  {
   "cell_type": "code",
   "execution_count": 21,
   "metadata": {},
   "outputs": [],
   "source": [
    "df.to_csv('chat_history_shankha.csv',index=False)"
   ]
  },
  {
   "cell_type": "code",
   "execution_count": null,
   "metadata": {},
   "outputs": [],
   "source": []
  },
  {
   "cell_type": "code",
   "execution_count": null,
   "metadata": {},
   "outputs": [],
   "source": []
  },
  {
   "cell_type": "code",
   "execution_count": null,
   "metadata": {},
   "outputs": [],
   "source": []
  },
  {
   "cell_type": "code",
   "execution_count": null,
   "metadata": {},
   "outputs": [],
   "source": []
  }
 ],
 "metadata": {
  "kernelspec": {
   "display_name": "Python 3",
   "language": "python",
   "name": "python3"
  },
  "language_info": {
   "codemirror_mode": {
    "name": "ipython",
    "version": 3
   },
   "file_extension": ".py",
   "mimetype": "text/x-python",
   "name": "python",
   "nbconvert_exporter": "python",
   "pygments_lexer": "ipython3",
   "version": "3.11.1"
  }
 },
 "nbformat": 4,
 "nbformat_minor": 2
}
