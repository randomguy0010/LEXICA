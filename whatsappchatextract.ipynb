{
 "cells": [
  {
   "cell_type": "code",
   "execution_count": null,
   "metadata": {},
   "outputs": [],
   "source": [
    "\n",
    "%pip install urllib3\n",
    "import urllib3\n",
    "import os\n",
    "\n",
    "#Third Party Modules\n",
    "%pip install pushbullet.py\n",
    "%pip install pandas openpyxl\n",
    "import pandas as pd \n",
    "from pushbullet import Pushbullet \n"
   ]
  },
  {
   "cell_type": "code",
   "execution_count": null,
   "metadata": {},
   "outputs": [],
   "source": [
    "#Entering the pushbullet api key\n",
    "API_KEY=\"API_KEY\""
   ]
  },
  {
   "cell_type": "code",
   "execution_count": null,
   "metadata": {},
   "outputs": [],
   "source": [
    "pb=Pushbullet(API_KEY)\n",
    "pushes=pb.get_pushes()\n",
    "latest=pushes[0]\n",
    "url=latest['file_url']\n",
    "url"
   ]
  },
  {
   "cell_type": "code",
   "execution_count": null,
   "metadata": {},
   "outputs": [],
   "source": [
    "import urllib"
   ]
  },
  {
   "cell_type": "code",
   "execution_count": null,
   "metadata": {},
   "outputs": [],
   "source": [
    "url=latest['file_url']\n",
    "file_path=\"chat.txt\"\n",
    "urllib.request.urlretrieve(url,file_path)"
   ]
  },
  {
   "cell_type": "code",
   "execution_count": null,
   "metadata": {},
   "outputs": [],
   "source": [
    "with open('CHAT_TEXT_FILE.txt',mode='r',encoding=\"utf8\") as f:\n",
    "    data=f.readlines()"
   ]
  },
  {
   "cell_type": "code",
   "execution_count": null,
   "metadata": {},
   "outputs": [],
   "source": [
    "data"
   ]
  },
  {
   "cell_type": "code",
   "execution_count": null,
   "metadata": {},
   "outputs": [],
   "source": [
    "data[0]"
   ]
  },
  {
   "cell_type": "code",
   "execution_count": null,
   "metadata": {},
   "outputs": [],
   "source": [
    "dataset=data[1:]\n",
    "cleaned_data=[]\n",
    "for line in dataset:\n",
    "    date=line.split(\",\")[0]\n",
    "    line2=line[len(data):]\n",
    "    time=line2.split(\"-\")[0][2:]\n",
    "    line3=line2[len(time):]\n",
    "    name=line3.split(\":\")[0][4:]\n",
    "    line4=line3[len(name):]\n",
    "    message=line4[6:-1]\n",
    "\n",
    "    print(date,time,name,message)\n",
    "    cleaned_data.append([date,time,name,message])\n",
    "\n"
   ]
  },
  {
   "cell_type": "code",
   "execution_count": null,
   "metadata": {},
   "outputs": [],
   "source": [
    "df=pd.DataFrame(cleaned_data,columns=['Date','Time','Name','Message'])"
   ]
  },
  {
   "cell_type": "code",
   "execution_count": null,
   "metadata": {},
   "outputs": [],
   "source": [
    "df.to_csv('CHAT_FILE.csv',index=False)"
   ]
  },
  {
   "cell_type": "code",
   "execution_count": null,
   "metadata": {},
   "outputs": [],
   "source": []
  },
  {
   "cell_type": "code",
   "execution_count": null,
   "metadata": {},
   "outputs": [],
   "source": []
  },
  {
   "cell_type": "code",
   "execution_count": null,
   "metadata": {},
   "outputs": [],
   "source": []
  },
  {
   "cell_type": "code",
   "execution_count": null,
   "metadata": {},
   "outputs": [],
   "source": []
  }
 ],
 "metadata": {
  "kernelspec": {
   "display_name": "Python 3",
   "language": "python",
   "name": "python3"
  },
  "language_info": {
   "codemirror_mode": {
    "name": "ipython",
    "version": 3
   },
   "file_extension": ".py",
   "mimetype": "text/x-python",
   "name": "python",
   "nbconvert_exporter": "python",
   "pygments_lexer": "ipython3",
   "version": "3.11.1"
  }
 },
 "nbformat": 4,
 "nbformat_minor": 2
}
